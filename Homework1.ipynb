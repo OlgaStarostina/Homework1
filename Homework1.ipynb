{
 "cells": [
  {
   "cell_type": "code",
   "execution_count": 7,
   "metadata": {},
   "outputs": [
    {
     "name": "stdout",
     "output_type": "stream",
     "text": [
      "Фраза 1 короче фразы 2\n"
     ]
    }
   ],
   "source": [
    "phrase_1 = ('Столица России - Москва')\n",
    "phrase_2 = ('Столица Российской Федерации - Москва')\n",
    "if len(phrase_1) < len(phrase_2):\n",
    "    print ('Фраза 1 короче фразы 2')\n",
    "elif len(phrase_1) > len(phrase_2):\n",
    "    print ('Фраза 2 короче фразы 1')\n",
    "else:\n",
    "    print ('фразы одинаковой длины')"
   ]
  },
  {
   "cell_type": "code",
   "execution_count": 18,
   "metadata": {},
   "outputs": [
    {
     "name": "stdout",
     "output_type": "stream",
     "text": [
      "високосный год\n"
     ]
    }
   ],
   "source": [
    "year = 1812\n",
    "if (year % 4 == 0):\n",
    "    print ('високосный год')\n",
    "else:\n",
    "    print ('обычный год')"
   ]
  },
  {
   "cell_type": "code",
   "execution_count": 19,
   "metadata": {},
   "outputs": [
    {
     "name": "stdout",
     "output_type": "stream",
     "text": [
      "введите день10\n",
      "введите месяц2\n",
      "водолей\n"
     ]
    }
   ],
   "source": [
    "day = int(input('введите день'))\n",
    "mouth = int(input('введите месяц'))\n",
    "if (mouth == 3):\n",
    "    if (1<= day and day <=20):\n",
    "        print('рыбы')\n",
    "    elif (21<= day and day <=31):\n",
    "        print('овен')\n",
    "    else:\n",
    "        print('введите корректую дату рождения')\n",
    "if (mouth == 4):\n",
    "    if (1<= day and day <=20):\n",
    "        print('овен')\n",
    "    elif (21<= day and day <=30):\n",
    "        print('телец')\n",
    "    else:\n",
    "        print('введите корректую дату рождения')\n",
    "if (mouth == 5):\n",
    "    if (1<= day and day <=21):\n",
    "        print('телец')\n",
    "    elif (22<= day and day <=31):\n",
    "        print('близнец')\n",
    "    else:\n",
    "        print('введите корректую дату рождения')\n",
    "if (mouth == 6):\n",
    "    if (1<= day and day <=21):\n",
    "        print('близнец')\n",
    "    elif (22<= day and day <=30):\n",
    "        print('рак')\n",
    "    else:\n",
    "        print('введите корректую дату рождения')\n",
    "if (mouth == 7):\n",
    "    if (1<= day and day <=22):\n",
    "        print('рак')\n",
    "    elif (23<= day and day <=31):\n",
    "        print('лев')\n",
    "    else:\n",
    "        print('введите корректую дату рождения')\n",
    "if (mouth == 8):\n",
    "    if (1<= day and day <=21):\n",
    "        print('лев')\n",
    "    elif (22<= day and day <=31):\n",
    "        print('дева')\n",
    "    else:\n",
    "        print('введите корректую дату рождения')\n",
    "if (mouth == 9):\n",
    "    if (1<= day and day <=23):\n",
    "        print('дева')\n",
    "    elif (24<= day and day <=30):\n",
    "        print('весы')\n",
    "    else:\n",
    "        print('введите корректую дату рождения')\n",
    "if (mouth == 10):\n",
    "    if (1<= day and day <=23):\n",
    "        print('весы')\n",
    "    elif (24<= day and day <=31):\n",
    "        print('скорпион')\n",
    "    else:\n",
    "        print('введите корректую дату рождения')\n",
    "if (mouth == 11):\n",
    "    if (1<= day and day <=22):\n",
    "        print('скорпион')\n",
    "    elif (23<= day and day <=30):\n",
    "        print('стрелец')\n",
    "    else:\n",
    "        print('введите корректую дату рождения')\n",
    "if (mouth == 12):\n",
    "    if (1<= day and day <=22):\n",
    "        print('стрелец')\n",
    "    elif (23<= day and day <=31):\n",
    "        print('козерог')\n",
    "    else:\n",
    "        print('введите корректую дату рождения')\n",
    "if (mouth == 1):\n",
    "    if (1<= day and day <=20):\n",
    "        print('козерог')\n",
    "    elif (21<= day and day <=31):\n",
    "        print('водолей')\n",
    "    else:\n",
    "        print('введите корректую дату рождения')\n",
    "if (mouth == 2):\n",
    "    if (1<= day and day <=19):\n",
    "        print('водолей')\n",
    "    elif (20<= day and day <=29):\n",
    "        print('рыбы')\n",
    "    else:\n",
    "        print('введите корректую дату рождения')"
   ]
  },
  {
   "cell_type": "code",
   "execution_count": 20,
   "metadata": {},
   "outputs": [
    {
     "name": "stdout",
     "output_type": "stream",
     "text": [
      "Коробка №2\n"
     ]
    }
   ],
   "source": [
    "width = 16\n",
    "length = 180\n",
    "height = 10\n",
    "if ((width < 15) and (length < 15) and (height < 15)):\n",
    "    print('Коробка №1')\n",
    "elif ((width > 15 and width < 50) or (length > 15 and length < 50) or (height > 15 and height < 50)):\n",
    "    print('Коробка №2')\n",
    "elif (length > 200):\n",
    "    print('Упаковка для лыж')\n",
    "else:\n",
    "    print('Стандартная коробка №3')"
   ]
  }
 ],
 "metadata": {
  "kernelspec": {
   "display_name": "Python 3",
   "language": "python",
   "name": "python3"
  },
  "language_info": {
   "codemirror_mode": {
    "name": "ipython",
    "version": 3
   },
   "file_extension": ".py",
   "mimetype": "text/x-python",
   "name": "python",
   "nbconvert_exporter": "python",
   "pygments_lexer": "ipython3",
   "version": "3.8.3"
  }
 },
 "nbformat": 4,
 "nbformat_minor": 4
}
